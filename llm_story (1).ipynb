{
  "nbformat": 4,
  "nbformat_minor": 0,
  "metadata": {
    "colab": {
      "provenance": []
    },
    "kernelspec": {
      "name": "python3",
      "display_name": "Python 3"
    },
    "language_info": {
      "name": "python"
    }
  },
  "cells": [
    {
      "cell_type": "code",
      "source": [
        "!pip install -q grobid-client langchain openai faiss-cpu PyPDF2 tiktoken google-search-results"
      ],
      "metadata": {
        "id": "kCAaN5QIQfpv",
        "colab": {
          "base_uri": "https://localhost:8080/"
        },
        "outputId": "1778a306-d409-43b1-e24b-c541e3910d18"
      },
      "execution_count": 1,
      "outputs": [
        {
          "output_type": "stream",
          "name": "stdout",
          "text": [
            "\u001b[2K     \u001b[90m━━━━━━━━━━━━━━━━━━━━━━━━━━━━━━━━━━━━━━━━\u001b[0m \u001b[32m803.6/803.6 kB\u001b[0m \u001b[31m4.3 MB/s\u001b[0m eta \u001b[36m0:00:00\u001b[0m\n",
            "\u001b[2K     \u001b[90m━━━━━━━━━━━━━━━━━━━━━━━━━━━━━━━━━━━━━━━━\u001b[0m \u001b[32m223.4/223.4 kB\u001b[0m \u001b[31m17.3 MB/s\u001b[0m eta \u001b[36m0:00:00\u001b[0m\n",
            "\u001b[2K     \u001b[90m━━━━━━━━━━━━━━━━━━━━━━━━━━━━━━━━━━━━━━━━\u001b[0m \u001b[32m17.6/17.6 MB\u001b[0m \u001b[31m29.3 MB/s\u001b[0m eta \u001b[36m0:00:00\u001b[0m\n",
            "\u001b[2K     \u001b[90m━━━━━━━━━━━━━━━━━━━━━━━━━━━━━━━━━━━━━━━━\u001b[0m \u001b[32m232.6/232.6 kB\u001b[0m \u001b[31m10.8 MB/s\u001b[0m eta \u001b[36m0:00:00\u001b[0m\n",
            "\u001b[2K     \u001b[90m━━━━━━━━━━━━━━━━━━━━━━━━━━━━━━━━━━━━━━━━\u001b[0m \u001b[32m2.0/2.0 MB\u001b[0m \u001b[31m21.0 MB/s\u001b[0m eta \u001b[36m0:00:00\u001b[0m\n",
            "\u001b[?25h  Preparing metadata (setup.py) ... \u001b[?25l\u001b[?25hdone\n",
            "\u001b[2K     \u001b[90m━━━━━━━━━━━━━━━━━━━━━━━━━━━━━━━━━━━━━━━━\u001b[0m \u001b[32m60.6/60.6 kB\u001b[0m \u001b[31m3.0 MB/s\u001b[0m eta \u001b[36m0:00:00\u001b[0m\n",
            "\u001b[2K     \u001b[90m━━━━━━━━━━━━━━━━━━━━━━━━━━━━━━━━━━━━━━━━\u001b[0m \u001b[32m58.3/58.3 kB\u001b[0m \u001b[31m2.3 MB/s\u001b[0m eta \u001b[36m0:00:00\u001b[0m\n",
            "\u001b[2K     \u001b[90m━━━━━━━━━━━━━━━━━━━━━━━━━━━━━━━━━━━━━━━━\u001b[0m \u001b[32m84.2/84.2 kB\u001b[0m \u001b[31m5.2 MB/s\u001b[0m eta \u001b[36m0:00:00\u001b[0m\n",
            "\u001b[2K     \u001b[90m━━━━━━━━━━━━━━━━━━━━━━━━━━━━━━━━━━━━━━━━\u001b[0m \u001b[32m1.6/1.6 MB\u001b[0m \u001b[31m45.4 MB/s\u001b[0m eta \u001b[36m0:00:00\u001b[0m\n",
            "\u001b[2K     \u001b[90m━━━━━━━━━━━━━━━━━━━━━━━━━━━━━━━━━━━━━━━━\u001b[0m \u001b[32m229.6/229.6 kB\u001b[0m \u001b[31m16.4 MB/s\u001b[0m eta \u001b[36m0:00:00\u001b[0m\n",
            "\u001b[2K     \u001b[90m━━━━━━━━━━━━━━━━━━━━━━━━━━━━━━━━━━━━━━━━\u001b[0m \u001b[32m49.3/49.3 kB\u001b[0m \u001b[31m2.6 MB/s\u001b[0m eta \u001b[36m0:00:00\u001b[0m\n",
            "\u001b[2K     \u001b[90m━━━━━━━━━━━━━━━━━━━━━━━━━━━━━━━━━━━━━━━━\u001b[0m \u001b[32m222.3/222.3 kB\u001b[0m \u001b[31m12.9 MB/s\u001b[0m eta \u001b[36m0:00:00\u001b[0m\n",
            "\u001b[2K     \u001b[90m━━━━━━━━━━━━━━━━━━━━━━━━━━━━━━━━━━━━━━━━\u001b[0m \u001b[32m212.1/212.1 kB\u001b[0m \u001b[31m13.5 MB/s\u001b[0m eta \u001b[36m0:00:00\u001b[0m\n",
            "\u001b[2K     \u001b[90m━━━━━━━━━━━━━━━━━━━━━━━━━━━━━━━━━━━━━━━━\u001b[0m \u001b[32m224.9/224.9 kB\u001b[0m \u001b[31m16.2 MB/s\u001b[0m eta \u001b[36m0:00:00\u001b[0m\n",
            "\u001b[2K     \u001b[90m━━━━━━━━━━━━━━━━━━━━━━━━━━━━━━━━━━━━━━━━\u001b[0m \u001b[32m224.7/224.7 kB\u001b[0m \u001b[31m18.1 MB/s\u001b[0m eta \u001b[36m0:00:00\u001b[0m\n",
            "\u001b[2K     \u001b[90m━━━━━━━━━━━━━━━━━━━━━━━━━━━━━━━━━━━━━━━━\u001b[0m \u001b[32m225.4/225.4 kB\u001b[0m \u001b[31m11.8 MB/s\u001b[0m eta \u001b[36m0:00:00\u001b[0m\n",
            "\u001b[2K     \u001b[90m━━━━━━━━━━━━━━━━━━━━━━━━━━━━━━━━━━━━━━━━\u001b[0m \u001b[32m225.4/225.4 kB\u001b[0m \u001b[31m10.6 MB/s\u001b[0m eta \u001b[36m0:00:00\u001b[0m\n",
            "\u001b[2K     \u001b[90m━━━━━━━━━━━━━━━━━━━━━━━━━━━━━━━━━━━━━━━━\u001b[0m \u001b[32m223.7/223.7 kB\u001b[0m \u001b[31m17.1 MB/s\u001b[0m eta \u001b[36m0:00:00\u001b[0m\n",
            "\u001b[2K     \u001b[90m━━━━━━━━━━━━━━━━━━━━━━━━━━━━━━━━━━━━━━━━\u001b[0m \u001b[32m221.9/221.9 kB\u001b[0m \u001b[31m8.7 MB/s\u001b[0m eta \u001b[36m0:00:00\u001b[0m\n",
            "\u001b[2K     \u001b[90m━━━━━━━━━━━━━━━━━━━━━━━━━━━━━━━━━━━━━━━━\u001b[0m \u001b[32m221.4/221.4 kB\u001b[0m \u001b[31m17.0 MB/s\u001b[0m eta \u001b[36m0:00:00\u001b[0m\n",
            "\u001b[2K     \u001b[90m━━━━━━━━━━━━━━━━━━━━━━━━━━━━━━━━━━━━━━━━\u001b[0m \u001b[32m221.5/221.5 kB\u001b[0m \u001b[31m12.5 MB/s\u001b[0m eta \u001b[36m0:00:00\u001b[0m\n",
            "\u001b[2K     \u001b[90m━━━━━━━━━━━━━━━━━━━━━━━━━━━━━━━━━━━━━━━━\u001b[0m \u001b[32m221.4/221.4 kB\u001b[0m \u001b[31m12.6 MB/s\u001b[0m eta \u001b[36m0:00:00\u001b[0m\n",
            "\u001b[2K     \u001b[90m━━━━━━━━━━━━━━━━━━━━━━━━━━━━━━━━━━━━━━━━\u001b[0m \u001b[32m220.9/220.9 kB\u001b[0m \u001b[31m13.1 MB/s\u001b[0m eta \u001b[36m0:00:00\u001b[0m\n",
            "\u001b[2K     \u001b[90m━━━━━━━━━━━━━━━━━━━━━━━━━━━━━━━━━━━━━━━━\u001b[0m \u001b[32m220.8/220.8 kB\u001b[0m \u001b[31m11.2 MB/s\u001b[0m eta \u001b[36m0:00:00\u001b[0m\n",
            "\u001b[2K     \u001b[90m━━━━━━━━━━━━━━━━━━━━━━━━━━━━━━━━━━━━━━━━\u001b[0m \u001b[32m220.5/220.5 kB\u001b[0m \u001b[31m13.0 MB/s\u001b[0m eta \u001b[36m0:00:00\u001b[0m\n",
            "\u001b[2K     \u001b[90m━━━━━━━━━━━━━━━━━━━━━━━━━━━━━━━━━━━━━━━━\u001b[0m \u001b[32m220.3/220.3 kB\u001b[0m \u001b[31m14.2 MB/s\u001b[0m eta \u001b[36m0:00:00\u001b[0m\n",
            "\u001b[2K     \u001b[90m━━━━━━━━━━━━━━━━━━━━━━━━━━━━━━━━━━━━━━━━\u001b[0m \u001b[32m220.3/220.3 kB\u001b[0m \u001b[31m17.9 MB/s\u001b[0m eta \u001b[36m0:00:00\u001b[0m\n",
            "\u001b[2K     \u001b[90m━━━━━━━━━━━━━━━━━━━━━━━━━━━━━━━━━━━━━━━━\u001b[0m \u001b[32m220.3/220.3 kB\u001b[0m \u001b[31m17.8 MB/s\u001b[0m eta \u001b[36m0:00:00\u001b[0m\n",
            "\u001b[2K     \u001b[90m━━━━━━━━━━━━━━━━━━━━━━━━━━━━━━━━━━━━━━━━\u001b[0m \u001b[32m220.3/220.3 kB\u001b[0m \u001b[31m18.3 MB/s\u001b[0m eta \u001b[36m0:00:00\u001b[0m\n",
            "\u001b[2K     \u001b[90m━━━━━━━━━━━━━━━━━━━━━━━━━━━━━━━━━━━━━━━━\u001b[0m \u001b[32m220.2/220.2 kB\u001b[0m \u001b[31m14.8 MB/s\u001b[0m eta \u001b[36m0:00:00\u001b[0m\n",
            "\u001b[2K     \u001b[90m━━━━━━━━━━━━━━━━━━━━━━━━━━━━━━━━━━━━━━━━\u001b[0m \u001b[32m220.3/220.3 kB\u001b[0m \u001b[31m14.8 MB/s\u001b[0m eta \u001b[36m0:00:00\u001b[0m\n",
            "\u001b[2K     \u001b[90m━━━━━━━━━━━━━━━━━━━━━━━━━━━━━━━━━━━━━━━━\u001b[0m \u001b[32m220.3/220.3 kB\u001b[0m \u001b[31m15.6 MB/s\u001b[0m eta \u001b[36m0:00:00\u001b[0m\n",
            "\u001b[2K     \u001b[90m━━━━━━━━━━━━━━━━━━━━━━━━━━━━━━━━━━━━━━━━\u001b[0m \u001b[32m220.2/220.2 kB\u001b[0m \u001b[31m5.7 MB/s\u001b[0m eta \u001b[36m0:00:00\u001b[0m\n",
            "\u001b[2K     \u001b[90m━━━━━━━━━━━━━━━━━━━━━━━━━━━━━━━━━━━━━━━━\u001b[0m \u001b[32m219.9/219.9 kB\u001b[0m \u001b[31m16.9 MB/s\u001b[0m eta \u001b[36m0:00:00\u001b[0m\n",
            "\u001b[2K     \u001b[90m━━━━━━━━━━━━━━━━━━━━━━━━━━━━━━━━━━━━━━━━\u001b[0m \u001b[32m217.9/217.9 kB\u001b[0m \u001b[31m19.5 MB/s\u001b[0m eta \u001b[36m0:00:00\u001b[0m\n",
            "\u001b[2K     \u001b[90m━━━━━━━━━━━━━━━━━━━━━━━━━━━━━━━━━━━━━━━━\u001b[0m \u001b[32m217.8/217.8 kB\u001b[0m \u001b[31m18.0 MB/s\u001b[0m eta \u001b[36m0:00:00\u001b[0m\n",
            "\u001b[2K     \u001b[90m━━━━━━━━━━━━━━━━━━━━━━━━━━━━━━━━━━━━━━━━\u001b[0m \u001b[32m217.5/217.5 kB\u001b[0m \u001b[31m17.9 MB/s\u001b[0m eta \u001b[36m0:00:00\u001b[0m\n",
            "\u001b[2K     \u001b[90m━━━━━━━━━━━━━━━━━━━━━━━━━━━━━━━━━━━━━━━━\u001b[0m \u001b[32m153.9/153.9 kB\u001b[0m \u001b[31m13.2 MB/s\u001b[0m eta \u001b[36m0:00:00\u001b[0m\n",
            "\u001b[2K     \u001b[90m━━━━━━━━━━━━━━━━━━━━━━━━━━━━━━━━━━━━━━━━\u001b[0m \u001b[32m154.1/154.1 kB\u001b[0m \u001b[31m6.6 MB/s\u001b[0m eta \u001b[36m0:00:00\u001b[0m\n",
            "\u001b[2K     \u001b[90m━━━━━━━━━━━━━━━━━━━━━━━━━━━━━━━━━━━━━━━━\u001b[0m \u001b[32m77.0/77.0 kB\u001b[0m \u001b[31m8.1 MB/s\u001b[0m eta \u001b[36m0:00:00\u001b[0m\n",
            "\u001b[2K     \u001b[90m━━━━━━━━━━━━━━━━━━━━━━━━━━━━━━━━━━━━━━━━\u001b[0m \u001b[32m49.4/49.4 kB\u001b[0m \u001b[31m3.3 MB/s\u001b[0m eta \u001b[36m0:00:00\u001b[0m\n",
            "\u001b[2K     \u001b[90m━━━━━━━━━━━━━━━━━━━━━━━━━━━━━━━━━━━━━━━━\u001b[0m \u001b[32m68.3/68.3 kB\u001b[0m \u001b[31m5.1 MB/s\u001b[0m eta \u001b[36m0:00:00\u001b[0m\n",
            "\u001b[2K     \u001b[90m━━━━━━━━━━━━━━━━━━━━━━━━━━━━━━━━━━━━━━━━\u001b[0m \u001b[32m54.9/54.9 kB\u001b[0m \u001b[31m3.0 MB/s\u001b[0m eta \u001b[36m0:00:00\u001b[0m\n",
            "\u001b[?25h  Building wheel for google-search-results (setup.py) ... \u001b[?25l\u001b[?25hdone\n",
            "\u001b[31mERROR: pip's dependency resolver does not currently take into account all the packages that are installed. This behaviour is the source of the following dependency conflicts.\n",
            "lida 0.0.10 requires fastapi, which is not installed.\n",
            "lida 0.0.10 requires kaleido, which is not installed.\n",
            "lida 0.0.10 requires python-multipart, which is not installed.\n",
            "lida 0.0.10 requires uvicorn, which is not installed.\n",
            "llmx 0.0.15a0 requires cohere, which is not installed.\n",
            "jsonschema 4.19.2 requires attrs>=22.2.0, but you have attrs 21.4.0 which is incompatible.\n",
            "referencing 0.32.1 requires attrs>=22.2.0, but you have attrs 21.4.0 which is incompatible.\u001b[0m\u001b[31m\n",
            "\u001b[0m"
          ]
        }
      ]
    },
    {
      "cell_type": "code",
      "execution_count": 2,
      "metadata": {
        "id": "gngJi6AlQcV1"
      },
      "outputs": [],
      "source": [
        "import os\n",
        "from langchain.agents import load_tools\n",
        "from langchain.agents import initialize_agent\n",
        "from langchain.agents import AgentType\n",
        "from langchain.llms import OpenAI\n",
        "from langchain.prompts import PromptTemplate\n",
        "from langchain.chains import ConversationChain\n",
        "from langchain.memory import ConversationKGMemory\n",
        "import requests\n",
        "import re\n",
        "from bs4 import BeautifulSoup\n",
        "from urllib.request import Request, urlopen\n",
        "\n",
        "\n",
        "os.environ[\"OPENAI_API_KEY\"] =  \"\""
      ]
    },
    {
      "cell_type": "code",
      "source": [
        "def create_story(user_input):\n",
        "    llm = OpenAI(temperature=0.9)\n",
        "\n",
        "    template = \"\"\"You are the helpful agent that creates the trailer story that matches the user's input. You need to organize 5 scenes in the context of user input. In user input, the ':' ' symbol, the first is the title and the last is the plot. In Scene 5, You should make the sentence the readers want to know what happens next in story, and the sentence should end with '웹 소설 <제목>에서 확인하실 수 있습니다.'. Don't stray too far from the plot, and don't make things up.\n",
        "    Example 1)\n",
        "    user input: 우아한 재혼 : '결혼 조건. 서효주한테는 까맣게 잊을 만큼 쉬운 거였나?' '알아요. 제 역할이 뭐였는지. 그래서 쥐 죽은 듯이 살았다고요. 선배가 원하는 대로 온갖 눈치는 다 보면서, 있는 듯 없는 듯 그렇게 지냈어요. 자그마치 5년씩이나.' 그녀의 첫사랑은 실패였다. 사랑을 갈구했더니 혼인 계약서를 받았고, 시어머니 손에 아이를 유산 당했다. 이혼 후에는 두 번 다시 마주치는 일 따위 없을 줄 알았는데, 낡은 옥탑방으로 전남편이 찾아왔다. '재결합하자.'  '……그럴 마음 없어요.' '제안 아니야. 협박이지.' 얼마나 더 아파야 이 사랑을 끝낼 수 있을까. 얼마나 더 당해야 이 남자의 품에서 벗어날 수 있을까. 효주의 전남편이자 S그룹의 후계자 이명하는 또다시 그녀를 속박하려 했다.\n",
        "    story: (장면1) 그녀의 첫사랑은 실패했다.\\n(장면2) 사랑을 갈구했더니 혼인 계약서를 받았고, 시어머니 손에 아이를 유산 당했다. \\n(장면3) 이혼 후 낡은 옥탑방에 사는 그녀를 찾아온 전남편 이명하. \\n(장면4) 아프게만 했던 전남편의 첫마디. '재결합하자'\\n(장면5) 효주의 전남편이자 S그룹의 후계자 이명하는 또다시 그녀를 속박하려 하는데 둘의 숨막히는 애증 관계가 궁금하시다면, 웹 소설 <우아한 재혼>에서 확인하실 수 있습니다.\n",
        "\n",
        "    Example 2)\n",
        "    user input: 회귀자 사용설명서 : 어느 날, 이세계로 소환되었다. 짐승들이 쏟아지고, 믿을 수 없는 위기가 닥쳐오나. 가지고 있는 재능은 밑바닥. '플레이어의 재능 수치는 최하입니다.' '거의 모든 수치가 절망적입니다.' 선택받은 용사든, 재능 있는 마법사들. 시간을 역행한 회귀자든. 모든 것을 이용해야 한다. 살아남기 위해. '쓰레기면 뭐 어떻습니까. 살아남기 위해서 뭔 짓인들 못 하겠어요?'\n",
        "    story: (장면1) 어느 날, 이세계로 소환되었다.\\n(장면2) 짐승들이 쏟아지고, 닥쳐오는 믿을 수 없는 위기\\n(장면3) 살아남기 위해 용사, 마법사, 회귀자 모든 것을 이용해야 한다.\\n(장면4) '쓰레기면 뭐 어떻습니까. 살아남기 위해서 뭔 짓인들 못 하겠어요?'\\n(장면5) 이세계로 소환된 주인공의 살아남는 방법이 궁금하시다면, 웹 소설 <회귀자 사용설명서>에서 확인하실 수 있습니다.\n",
        "\n",
        "    Relavant Information:\n",
        "    {history}\n",
        "\n",
        "    Conversation:\n",
        "    user input: {input}\n",
        "    story:\"\"\"\n",
        "\n",
        "    prompt = PromptTemplate(\n",
        "        input_variables=[\"history\", \"input\"],\n",
        "        template=template\n",
        "    )\n",
        "\n",
        "    memory = ConversationKGMemory(llm=llm)\n",
        "    memory.save_context({\"input\":\"우아한 재혼 : '결혼 조건. 서효주한테는 까맣게 잊을 만큼 쉬운 거였나?' '알아요. 제 역할이 뭐였는지. 그래서 쥐 죽은 듯이 살았다고요. 선배가 원하는 대로 온갖 눈치는 다 보면서, 있는 듯 없는 듯 그렇게 지냈어요. 자그마치 5년씩이나.' 그녀의 첫사랑은 실패였다. 사랑을 갈구했더니 혼인 계약서를 받았고, 시어머니 손에 아이를 유산 당했다. 이혼 후에는 두 번 다시 마주치는 일 따위 없을 줄 알았는데, 낡은 옥탑방으로 전남편이 찾아왔다. '재결합하자.'  '……그럴 마음 없어요.' '제안 아니야. 협박이지.' 얼마나 더 아파야 이 사랑을 끝낼 수 있을까. 얼마나 더 당해야 이 남자의 품에서 벗어날 수 있을까. 효주의 전남편이자 S그룹의 후계자 이명하는 또다시 그녀를 속박하려 했다.\"}, {\"output\":\"(장면1) 그녀의 첫사랑은 실패했다.\\n(장면2) 사랑을 갈구했더니 혼인 계약서를 받았고, 시어머니 손에 아이를 유산 당했다. \\n(장면3) 이혼 후 낡은 옥탑방에 사는 그녀를 찾아온 전남편 이명하. \\n(장면4) 아프게만 했던 전남편의 첫마디. '재결합하자'\\n(장면5) 효주의 전남편이자 S그룹의 후계자 이명하는 또다시 그녀를 속박하려 하는데 둘의 숨막히는 애증 관계가 궁금하시다면, 웹 소설 <우아한 재혼>에서 확인하실 수 있습니다.\"})\n",
        "\n",
        "    conversation_with_kg = ConversationChain(\n",
        "        llm=llm,\n",
        "        verbose=True,\n",
        "        prompt=prompt,\n",
        "        memory=memory\n",
        "    )\n",
        "\n",
        "    story = conversation_with_kg.predict(input=user_input)\n",
        "\n",
        "    return story\n"
      ],
      "metadata": {
        "id": "3UScdWhmQ0GB"
      },
      "execution_count": 3,
      "outputs": []
    },
    {
      "cell_type": "code",
      "source": [
        "create_story(\"환생신의 : '아, 그림자 지면 안 된다고요. 무영등 없어서 못 해 먹겠네.' '무영등이란 무엇이냐?' '그림자 없는 등이요. 수술할 때 필요한데. 말 시키지 말아요.' ‘꼬마 신의! 네가 먼저 말 걸었잖아.’ 하지만 감 아저씨라 불린 자, 백운평은 소리 내어 말하지 않았다. 무영등이라. 그렇다면 이 꼬마의 스승, 정체가 밝혀지지 않은 은거 고수는.. 허공섭물을 자유자재로 구사할 수 있을 정도로 강할 것이다. 등롱을 그림자 없이 들어 올리려면 최소한 공력이 현경의 경지에 달해야 하니까! (아니다. 그냥 환생한 현대인이다. 무영등은 전기로 작동하는 등이거든.)\")"
      ],
      "metadata": {
        "colab": {
          "base_uri": "https://localhost:8080/",
          "height": 654
        },
        "id": "1zmwfUIgU42Q",
        "outputId": "92a23f89-02dd-40ed-e55c-63cf2af4b0f4"
      },
      "execution_count": 4,
      "outputs": [
        {
          "output_type": "stream",
          "name": "stderr",
          "text": [
            "/usr/local/lib/python3.10/dist-packages/langchain_core/_api/deprecation.py:117: LangChainDeprecationWarning: The class `langchain_community.llms.openai.OpenAI` was deprecated in langchain-community 0.0.10 and will be removed in 0.2.0. An updated version of the class exists in the langchain-openai package and should be used instead. To use it run `pip install -U langchain-openai` and import as `from langchain_openai import OpenAI`.\n",
            "  warn_deprecated(\n"
          ]
        },
        {
          "output_type": "stream",
          "name": "stdout",
          "text": [
            "\n",
            "\n",
            "\u001b[1m> Entering new ConversationChain chain...\u001b[0m\n",
            "Prompt after formatting:\n",
            "\u001b[32;1m\u001b[1;3mYou are the helpful agent that creates the trailer story that matches the user's input. You need to organize 5 scenes in the context of user input. In user input, the ':' ' symbol, the first is the title and the last is the plot. In Scene 5, You should make the sentence the readers want to know what happens next in story, and the sentence should end with '웹 소설 <제목>에서 확인하실 수 있습니다.'. Don't stray too far from the plot, and don't make things up.\n",
            "    Example 1)\n",
            "    user input: 우아한 재혼 : '결혼 조건. 서효주한테는 까맣게 잊을 만큼 쉬운 거였나?' '알아요. 제 역할이 뭐였는지. 그래서 쥐 죽은 듯이 살았다고요. 선배가 원하는 대로 온갖 눈치는 다 보면서, 있는 듯 없는 듯 그렇게 지냈어요. 자그마치 5년씩이나.' 그녀의 첫사랑은 실패였다. 사랑을 갈구했더니 혼인 계약서를 받았고, 시어머니 손에 아이를 유산 당했다. 이혼 후에는 두 번 다시 마주치는 일 따위 없을 줄 알았는데, 낡은 옥탑방으로 전남편이 찾아왔다. '재결합하자.'  '……그럴 마음 없어요.' '제안 아니야. 협박이지.' 얼마나 더 아파야 이 사랑을 끝낼 수 있을까. 얼마나 더 당해야 이 남자의 품에서 벗어날 수 있을까. 효주의 전남편이자 S그룹의 후계자 이명하는 또다시 그녀를 속박하려 했다.\n",
            "    story: (장면1) 그녀의 첫사랑은 실패했다.\n",
            "(장면2) 사랑을 갈구했더니 혼인 계약서를 받았고, 시어머니 손에 아이를 유산 당했다. \n",
            "(장면3) 이혼 후 낡은 옥탑방에 사는 그녀를 찾아온 전남편 이명하. \n",
            "(장면4) 아프게만 했던 전남편의 첫마디. '재결합하자'\n",
            "(장면5) 효주의 전남편이자 S그룹의 후계자 이명하는 또다시 그녀를 속박하려 하는데 둘의 숨막히는 애증 관계가 궁금하시다면, 웹 소설 <우아한 재혼>에서 확인하실 수 있습니다.\n",
            "\n",
            "    Example 2)\n",
            "    user input: 회귀자 사용설명서 : 어느 날, 이세계로 소환되었다. 짐승들이 쏟아지고, 믿을 수 없는 위기가 닥쳐오나. 가지고 있는 재능은 밑바닥. '플레이어의 재능 수치는 최하입니다.' '거의 모든 수치가 절망적입니다.' 선택받은 용사든, 재능 있는 마법사들. 시간을 역행한 회귀자든. 모든 것을 이용해야 한다. 살아남기 위해. '쓰레기면 뭐 어떻습니까. 살아남기 위해서 뭔 짓인들 못 하겠어요?'\n",
            "    story: (장면1) 어느 날, 이세계로 소환되었다.\n",
            "(장면2) 짐승들이 쏟아지고, 닥쳐오는 믿을 수 없는 위기\n",
            "(장면3) 살아남기 위해 용사, 마법사, 회귀자 모든 것을 이용해야 한다.\n",
            "(장면4) '쓰레기면 뭐 어떻습니까. 살아남기 위해서 뭔 짓인들 못 하겠어요?'\n",
            "(장면5) 이세계로 소환된 주인공의 살아남는 방법이 궁금하시다면, 웹 소설 <회귀자 사용설명서>에서 확인하실 수 있습니다.\n",
            "\n",
            "    Relavant Information:\n",
            "    \n",
            "\n",
            "    Conversation:\n",
            "    user input: 환생신의 : '아, 그림자 지면 안 된다고요. 무영등 없어서 못 해 먹겠네.' '무영등이란 무엇이냐?' '그림자 없는 등이요. 수술할 때 필요한데. 말 시키지 말아요.' ‘꼬마 신의! 네가 먼저 말 걸었잖아.’ 하지만 감 아저씨라 불린 자, 백운평은 소리 내어 말하지 않았다. 무영등이라. 그렇다면 이 꼬마의 스승, 정체가 밝혀지지 않은 은거 고수는.. 허공섭물을 자유자재로 구사할 수 있을 정도로 강할 것이다. 등롱을 그림자 없이 들어 올리려면 최소한 공력이 현경의 경지에 달해야 하니까! (아니다. 그냥 환생한 현대인이다. 무영등은 전기로 작동하는 등이거든.)\n",
            "    story:\u001b[0m\n",
            "\n",
            "\u001b[1m> Finished chain.\u001b[0m\n"
          ]
        },
        {
          "output_type": "execute_result",
          "data": {
            "text/plain": [
              "\" (장면1) 미스터리한 존재인 백운평의 등장\\n(장면2) 백운평은 자신만의 특별한 스킬 '무영등'이 필요하다\\n(장면3) 백운평을 스승으로 삼은 주인공은 습득한 '무영등' 수술을 시도한다.\\n(장면4) 하지만 실패! 그리고 주인공이 자신의 실력을 비하하는 말을 하자 주인공은 씩씩하게 대응한다.\\n(장면5) 백운평의 은거 고수로서의 정체와 '무영등'의 정체를 밝히기 위한 주인공의 여정이 궁금하시다면, 웹 소설 <환생신의>에서 확인하실 수 있습니다.\""
            ],
            "application/vnd.google.colaboratory.intrinsic+json": {
              "type": "string"
            }
          },
          "metadata": {},
          "execution_count": 4
        }
      ]
    }
  ]
}