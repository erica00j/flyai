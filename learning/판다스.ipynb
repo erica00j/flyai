{
 "cells": [
  {
   "cell_type": "code",
   "execution_count": 1,
   "id": "e8980143-fc57-44da-9121-8691568c6ad5",
   "metadata": {},
   "outputs": [
    {
     "name": "stdout",
     "output_type": "stream",
     "text": [
      "Collecting pandas\n",
      "  Downloading pandas-2.1.4-cp312-cp312-win_amd64.whl.metadata (18 kB)\n",
      "Collecting numpy<2,>=1.26.0 (from pandas)\n",
      "  Downloading numpy-1.26.2-cp312-cp312-win_amd64.whl.metadata (61 kB)\n",
      "     ---------------------------------------- 0.0/61.2 kB ? eta -:--:--\n",
      "     -------------------- ------------------- 30.7/61.2 kB 1.3 MB/s eta 0:00:01\n",
      "     ---------------------------------------- 61.2/61.2 kB 1.6 MB/s eta 0:00:00\n",
      "Requirement already satisfied: python-dateutil>=2.8.2 in c:\\users\\2022-pc(t)-41\\appdata\\local\\programs\\python\\python312\\lib\\site-packages (from pandas) (2.8.2)\n",
      "Collecting pytz>=2020.1 (from pandas)\n",
      "  Downloading pytz-2023.3.post1-py2.py3-none-any.whl.metadata (22 kB)\n",
      "Collecting tzdata>=2022.1 (from pandas)\n",
      "  Downloading tzdata-2023.3-py2.py3-none-any.whl (341 kB)\n",
      "     ---------------------------------------- 0.0/341.8 kB ? eta -:--:--\n",
      "     ------------------------------------  337.9/341.8 kB 10.6 MB/s eta 0:00:01\n",
      "     ------------------------------------- 341.8/341.8 kB 10.7 MB/s eta 0:00:00\n",
      "Requirement already satisfied: six>=1.5 in c:\\users\\2022-pc(t)-41\\appdata\\local\\programs\\python\\python312\\lib\\site-packages (from python-dateutil>=2.8.2->pandas) (1.16.0)\n",
      "Downloading pandas-2.1.4-cp312-cp312-win_amd64.whl (10.5 MB)\n",
      "   ---------------------------------------- 0.0/10.5 MB ? eta -:--:--\n",
      "   --- ------------------------------------ 1.0/10.5 MB 30.4 MB/s eta 0:00:01\n",
      "   ------- -------------------------------- 1.9/10.5 MB 24.7 MB/s eta 0:00:01\n",
      "   ----------- ---------------------------- 3.0/10.5 MB 23.7 MB/s eta 0:00:01\n",
      "   ---------------- ----------------------- 4.2/10.5 MB 24.6 MB/s eta 0:00:01\n",
      "   ------------------- -------------------- 5.1/10.5 MB 23.1 MB/s eta 0:00:01\n",
      "   ----------------------- ---------------- 6.2/10.5 MB 23.5 MB/s eta 0:00:01\n",
      "   --------------------------- ------------ 7.3/10.5 MB 23.4 MB/s eta 0:00:01\n",
      "   ------------------------------ --------- 8.1/10.5 MB 22.4 MB/s eta 0:00:01\n",
      "   --------------------------------- ------ 8.8/10.5 MB 21.5 MB/s eta 0:00:01\n",
      "   ------------------------------------ --- 9.5/10.5 MB 21.0 MB/s eta 0:00:01\n",
      "   ------------------------------------- -- 9.9/10.5 MB 20.5 MB/s eta 0:00:01\n",
      "   ---------------------------------------- 10.5/10.5 MB 18.7 MB/s eta 0:00:00\n",
      "Downloading numpy-1.26.2-cp312-cp312-win_amd64.whl (15.5 MB)\n",
      "   ---------------------------------------- 0.0/15.5 MB ? eta -:--:--\n",
      "   --- ------------------------------------ 1.3/15.5 MB 27.7 MB/s eta 0:00:01\n",
      "   ----- ---------------------------------- 2.2/15.5 MB 23.4 MB/s eta 0:00:01\n",
      "   -------- ------------------------------- 3.3/15.5 MB 26.4 MB/s eta 0:00:01\n",
      "   ----------- ---------------------------- 4.4/15.5 MB 25.8 MB/s eta 0:00:01\n",
      "   -------------- ------------------------- 5.8/15.5 MB 24.5 MB/s eta 0:00:01\n",
      "   ----------------- ---------------------- 6.8/15.5 MB 25.5 MB/s eta 0:00:01\n",
      "   -------------------- ------------------- 8.0/15.5 MB 25.4 MB/s eta 0:00:01\n",
      "   ----------------------- ---------------- 9.2/15.5 MB 25.5 MB/s eta 0:00:01\n",
      "   ------------------------ --------------- 9.3/15.5 MB 23.0 MB/s eta 0:00:01\n",
      "   -------------------------- ------------- 10.3/15.5 MB 23.4 MB/s eta 0:00:01\n",
      "   ----------------------------- ---------- 11.6/15.5 MB 23.4 MB/s eta 0:00:01\n",
      "   ------------------------------- -------- 12.0/15.5 MB 23.4 MB/s eta 0:00:01\n",
      "   ---------------------------------- ----- 13.5/15.5 MB 21.8 MB/s eta 0:00:01\n",
      "   -------------------------------------- - 14.7/15.5 MB 23.4 MB/s eta 0:00:01\n",
      "   ---------------------------------------  15.5/15.5 MB 23.4 MB/s eta 0:00:01\n",
      "   ---------------------------------------- 15.5/15.5 MB 21.8 MB/s eta 0:00:00\n",
      "Downloading pytz-2023.3.post1-py2.py3-none-any.whl (502 kB)\n",
      "   ---------------------------------------- 0.0/502.5 kB ? eta -:--:--\n",
      "   --------------------------------------- 502.5/502.5 kB 30.8 MB/s eta 0:00:00\n",
      "Installing collected packages: pytz, tzdata, numpy, pandas\n",
      "Successfully installed numpy-1.26.2 pandas-2.1.4 pytz-2023.3.post1 tzdata-2023.3\n"
     ]
    }
   ],
   "source": [
    "!pip install pandas"
   ]
  },
  {
   "cell_type": "code",
   "execution_count": 8,
   "id": "66162333-763e-4df3-93dc-e8c1b3e677a6",
   "metadata": {},
   "outputs": [
    {
     "data": {
      "text/plain": [
       "a    1\n",
       "b    2\n",
       "c    3\n",
       "dtype: int64"
      ]
     },
     "execution_count": 8,
     "metadata": {},
     "output_type": "execute_result"
    }
   ],
   "source": [
    "import pandas as pd\n",
    "data = [1,2,3]\n",
    "ser = pd.Series(data, index=['a','b','c'])\n",
    "ser"
   ]
  },
  {
   "cell_type": "code",
   "execution_count": 11,
   "id": "9d8b2ffc-96a5-47f8-9c3a-f2e5449e6bba",
   "metadata": {},
   "outputs": [
    {
     "data": {
      "text/plain": [
       "2"
      ]
     },
     "execution_count": 11,
     "metadata": {},
     "output_type": "execute_result"
    }
   ],
   "source": [
    "ser.loc['b']"
   ]
  },
  {
   "cell_type": "code",
   "execution_count": 13,
   "id": "14918225-e114-469c-ae74-bcf43cc559d8",
   "metadata": {},
   "outputs": [
    {
     "data": {
      "text/plain": [
       "b    2\n",
       "c    3\n",
       "dtype: int64"
      ]
     },
     "execution_count": 13,
     "metadata": {},
     "output_type": "execute_result"
    }
   ],
   "source": [
    "ser.loc['b':'c']"
   ]
  },
  {
   "cell_type": "code",
   "execution_count": 12,
   "id": "5590f801-3b11-423f-8f72-dd116d1a4aa6",
   "metadata": {},
   "outputs": [
    {
     "data": {
      "text/plain": [
       "b    2\n",
       "c    3\n",
       "dtype: int64"
      ]
     },
     "execution_count": 12,
     "metadata": {},
     "output_type": "execute_result"
    }
   ],
   "source": [
    "ser.iloc[1:3]"
   ]
  },
  {
   "cell_type": "code",
   "execution_count": 14,
   "id": "e3c75978-3875-49de-9b63-17c5c084e263",
   "metadata": {},
   "outputs": [
    {
     "data": {
      "text/plain": [
       "a    1\n",
       "c    3\n",
       "dtype: int64"
      ]
     },
     "execution_count": 14,
     "metadata": {},
     "output_type": "execute_result"
    }
   ],
   "source": [
    "ser.loc[[True,False,True]]"
   ]
  },
  {
   "cell_type": "code",
   "execution_count": 15,
   "id": "09ce1b4f-b21a-4884-8f49-d5fff099d9ed",
   "metadata": {},
   "outputs": [
    {
     "data": {
      "text/plain": [
       "a     True\n",
       "b    False\n",
       "c     True\n",
       "dtype: bool"
      ]
     },
     "execution_count": 15,
     "metadata": {},
     "output_type": "execute_result"
    }
   ],
   "source": [
    "ser!=2"
   ]
  },
  {
   "cell_type": "code",
   "execution_count": 16,
   "id": "3b9b39a1-fe69-4c92-8142-0b2e392da200",
   "metadata": {},
   "outputs": [
    {
     "data": {
      "text/plain": [
       "a    1\n",
       "c    3\n",
       "dtype: int64"
      ]
     },
     "execution_count": 16,
     "metadata": {},
     "output_type": "execute_result"
    }
   ],
   "source": [
    "ser.loc[ser!=2]"
   ]
  },
  {
   "cell_type": "markdown",
   "id": "636fefbe-55d5-4c68-83fd-ca0e74aecb13",
   "metadata": {},
   "source": [
    "### Dataframe"
   ]
  },
  {
   "cell_type": "code",
   "execution_count": 19,
   "id": "85ff20e1-37e4-46be-9538-2f2f7a7d7279",
   "metadata": {},
   "outputs": [
    {
     "data": {
      "text/html": [
       "<div>\n",
       "<style scoped>\n",
       "    .dataframe tbody tr th:only-of-type {\n",
       "        vertical-align: middle;\n",
       "    }\n",
       "\n",
       "    .dataframe tbody tr th {\n",
       "        vertical-align: top;\n",
       "    }\n",
       "\n",
       "    .dataframe thead th {\n",
       "        text-align: right;\n",
       "    }\n",
       "</style>\n",
       "<table border=\"1\" class=\"dataframe\">\n",
       "  <thead>\n",
       "    <tr style=\"text-align: right;\">\n",
       "      <th></th>\n",
       "      <th>c1</th>\n",
       "      <th>c2</th>\n",
       "      <th>c3</th>\n",
       "    </tr>\n",
       "  </thead>\n",
       "  <tbody>\n",
       "    <tr>\n",
       "      <th>r1</th>\n",
       "      <td>1</td>\n",
       "      <td>10</td>\n",
       "      <td>100</td>\n",
       "    </tr>\n",
       "    <tr>\n",
       "      <th>r2</th>\n",
       "      <td>2</td>\n",
       "      <td>20</td>\n",
       "      <td>200</td>\n",
       "    </tr>\n",
       "    <tr>\n",
       "      <th>r3</th>\n",
       "      <td>3</td>\n",
       "      <td>30</td>\n",
       "      <td>300</td>\n",
       "    </tr>\n",
       "  </tbody>\n",
       "</table>\n",
       "</div>"
      ],
      "text/plain": [
       "    c1  c2   c3\n",
       "r1   1  10  100\n",
       "r2   2  20  200\n",
       "r3   3  30  300"
      ]
     },
     "execution_count": 19,
     "metadata": {},
     "output_type": "execute_result"
    }
   ],
   "source": [
    "import pandas as pd\n",
    "data = [[1,10,100],[2,20,200],[3,30,300]]\n",
    "df = pd.DataFrame(data, index=['r1','r2','r3'], columns = ['c1','c2','c3'])\n",
    "df"
   ]
  },
  {
   "cell_type": "code",
   "execution_count": 20,
   "id": "8f865efa-656c-4dfd-9b20-463bcec8709a",
   "metadata": {},
   "outputs": [
    {
     "data": {
      "text/plain": [
       "20"
      ]
     },
     "execution_count": 20,
     "metadata": {},
     "output_type": "execute_result"
    }
   ],
   "source": [
    "df.loc['r2','c2']"
   ]
  },
  {
   "cell_type": "code",
   "execution_count": 21,
   "id": "654426cb-c9b0-4def-84b6-82555fec44c0",
   "metadata": {},
   "outputs": [
    {
     "data": {
      "text/plain": [
       "c1      2\n",
       "c2     20\n",
       "c3    200\n",
       "Name: r2, dtype: int64"
      ]
     },
     "execution_count": 21,
     "metadata": {},
     "output_type": "execute_result"
    }
   ],
   "source": [
    "df.loc['r2',:]"
   ]
  },
  {
   "cell_type": "code",
   "execution_count": 22,
   "id": "0dfcf17b-70c9-4a38-9fa9-c45709b653ad",
   "metadata": {},
   "outputs": [
    {
     "data": {
      "text/plain": [
       "r1    10\n",
       "r2    20\n",
       "r3    30\n",
       "Name: c2, dtype: int64"
      ]
     },
     "execution_count": 22,
     "metadata": {},
     "output_type": "execute_result"
    }
   ],
   "source": [
    "df.loc[:,'c2']"
   ]
  },
  {
   "cell_type": "code",
   "execution_count": 23,
   "id": "8cc50d3d-2b59-4e58-adb1-56a0fcfb413b",
   "metadata": {},
   "outputs": [
    {
     "data": {
      "text/html": [
       "<div>\n",
       "<style scoped>\n",
       "    .dataframe tbody tr th:only-of-type {\n",
       "        vertical-align: middle;\n",
       "    }\n",
       "\n",
       "    .dataframe tbody tr th {\n",
       "        vertical-align: top;\n",
       "    }\n",
       "\n",
       "    .dataframe thead th {\n",
       "        text-align: right;\n",
       "    }\n",
       "</style>\n",
       "<table border=\"1\" class=\"dataframe\">\n",
       "  <thead>\n",
       "    <tr style=\"text-align: right;\">\n",
       "      <th></th>\n",
       "      <th>c2</th>\n",
       "      <th>c3</th>\n",
       "    </tr>\n",
       "  </thead>\n",
       "  <tbody>\n",
       "    <tr>\n",
       "      <th>r1</th>\n",
       "      <td>10</td>\n",
       "      <td>100</td>\n",
       "    </tr>\n",
       "    <tr>\n",
       "      <th>r3</th>\n",
       "      <td>30</td>\n",
       "      <td>300</td>\n",
       "    </tr>\n",
       "  </tbody>\n",
       "</table>\n",
       "</div>"
      ],
      "text/plain": [
       "    c2   c3\n",
       "r1  10  100\n",
       "r3  30  300"
      ]
     },
     "execution_count": 23,
     "metadata": {},
     "output_type": "execute_result"
    }
   ],
   "source": [
    "df.loc[['r1','r3'],'c2':'c3']"
   ]
  },
  {
   "cell_type": "code",
   "execution_count": 24,
   "id": "d61a4ddb-5c2b-43a0-ad64-35dc71dce509",
   "metadata": {},
   "outputs": [
    {
     "data": {
      "text/html": [
       "<div>\n",
       "<style scoped>\n",
       "    .dataframe tbody tr th:only-of-type {\n",
       "        vertical-align: middle;\n",
       "    }\n",
       "\n",
       "    .dataframe tbody tr th {\n",
       "        vertical-align: top;\n",
       "    }\n",
       "\n",
       "    .dataframe thead th {\n",
       "        text-align: right;\n",
       "    }\n",
       "</style>\n",
       "<table border=\"1\" class=\"dataframe\">\n",
       "  <thead>\n",
       "    <tr style=\"text-align: right;\">\n",
       "      <th></th>\n",
       "      <th>c1</th>\n",
       "      <th>c3</th>\n",
       "    </tr>\n",
       "  </thead>\n",
       "  <tbody>\n",
       "    <tr>\n",
       "      <th>r2</th>\n",
       "      <td>2</td>\n",
       "      <td>200</td>\n",
       "    </tr>\n",
       "    <tr>\n",
       "      <th>r3</th>\n",
       "      <td>3</td>\n",
       "      <td>300</td>\n",
       "    </tr>\n",
       "  </tbody>\n",
       "</table>\n",
       "</div>"
      ],
      "text/plain": [
       "    c1   c3\n",
       "r2   2  200\n",
       "r3   3  300"
      ]
     },
     "execution_count": 24,
     "metadata": {},
     "output_type": "execute_result"
    }
   ],
   "source": [
    "df.iloc[1:3,[0,2]]"
   ]
  },
  {
   "cell_type": "code",
   "execution_count": 25,
   "id": "06ef5497-3db2-4182-83e3-63fe2f0bb9e5",
   "metadata": {},
   "outputs": [
    {
     "data": {
      "text/plain": [
       "r1    10\n",
       "r2    20\n",
       "r3    30\n",
       "Name: c2, dtype: int64"
      ]
     },
     "execution_count": 25,
     "metadata": {},
     "output_type": "execute_result"
    }
   ],
   "source": [
    "df['c2']"
   ]
  },
  {
   "cell_type": "code",
   "execution_count": 26,
   "id": "8b3cb776-4405-4b1c-9c91-b02c9215f531",
   "metadata": {},
   "outputs": [
    {
     "data": {
      "text/html": [
       "<div>\n",
       "<style scoped>\n",
       "    .dataframe tbody tr th:only-of-type {\n",
       "        vertical-align: middle;\n",
       "    }\n",
       "\n",
       "    .dataframe tbody tr th {\n",
       "        vertical-align: top;\n",
       "    }\n",
       "\n",
       "    .dataframe thead th {\n",
       "        text-align: right;\n",
       "    }\n",
       "</style>\n",
       "<table border=\"1\" class=\"dataframe\">\n",
       "  <thead>\n",
       "    <tr style=\"text-align: right;\">\n",
       "      <th></th>\n",
       "      <th>c1</th>\n",
       "      <th>c2</th>\n",
       "      <th>c3</th>\n",
       "    </tr>\n",
       "  </thead>\n",
       "  <tbody>\n",
       "    <tr>\n",
       "      <th>r1</th>\n",
       "      <td>False</td>\n",
       "      <td>False</td>\n",
       "      <td>True</td>\n",
       "    </tr>\n",
       "    <tr>\n",
       "      <th>r2</th>\n",
       "      <td>False</td>\n",
       "      <td>True</td>\n",
       "      <td>True</td>\n",
       "    </tr>\n",
       "    <tr>\n",
       "      <th>r3</th>\n",
       "      <td>False</td>\n",
       "      <td>True</td>\n",
       "      <td>True</td>\n",
       "    </tr>\n",
       "  </tbody>\n",
       "</table>\n",
       "</div>"
      ],
      "text/plain": [
       "       c1     c2    c3\n",
       "r1  False  False  True\n",
       "r2  False   True  True\n",
       "r3  False   True  True"
      ]
     },
     "execution_count": 26,
     "metadata": {},
     "output_type": "execute_result"
    }
   ],
   "source": [
    "df > 10"
   ]
  },
  {
   "cell_type": "code",
   "execution_count": 27,
   "id": "7c4a266f-0d6e-4863-8567-2d00cb944643",
   "metadata": {},
   "outputs": [
    {
     "data": {
      "text/html": [
       "<div>\n",
       "<style scoped>\n",
       "    .dataframe tbody tr th:only-of-type {\n",
       "        vertical-align: middle;\n",
       "    }\n",
       "\n",
       "    .dataframe tbody tr th {\n",
       "        vertical-align: top;\n",
       "    }\n",
       "\n",
       "    .dataframe thead th {\n",
       "        text-align: right;\n",
       "    }\n",
       "</style>\n",
       "<table border=\"1\" class=\"dataframe\">\n",
       "  <thead>\n",
       "    <tr style=\"text-align: right;\">\n",
       "      <th></th>\n",
       "      <th>c1</th>\n",
       "      <th>c2</th>\n",
       "      <th>c3</th>\n",
       "    </tr>\n",
       "  </thead>\n",
       "  <tbody>\n",
       "    <tr>\n",
       "      <th>r2</th>\n",
       "      <td>2</td>\n",
       "      <td>20</td>\n",
       "      <td>200</td>\n",
       "    </tr>\n",
       "    <tr>\n",
       "      <th>r3</th>\n",
       "      <td>3</td>\n",
       "      <td>30</td>\n",
       "      <td>300</td>\n",
       "    </tr>\n",
       "  </tbody>\n",
       "</table>\n",
       "</div>"
      ],
      "text/plain": [
       "    c1  c2   c3\n",
       "r2   2  20  200\n",
       "r3   3  30  300"
      ]
     },
     "execution_count": 27,
     "metadata": {},
     "output_type": "execute_result"
    }
   ],
   "source": [
    "df.loc[df['c2']>10]"
   ]
  },
  {
   "cell_type": "code",
   "execution_count": 28,
   "id": "e932cc54-682c-4db9-a3ea-15010e9727e8",
   "metadata": {},
   "outputs": [
    {
     "data": {
      "text/html": [
       "<div>\n",
       "<style scoped>\n",
       "    .dataframe tbody tr th:only-of-type {\n",
       "        vertical-align: middle;\n",
       "    }\n",
       "\n",
       "    .dataframe tbody tr th {\n",
       "        vertical-align: top;\n",
       "    }\n",
       "\n",
       "    .dataframe thead th {\n",
       "        text-align: right;\n",
       "    }\n",
       "</style>\n",
       "<table border=\"1\" class=\"dataframe\">\n",
       "  <thead>\n",
       "    <tr style=\"text-align: right;\">\n",
       "      <th></th>\n",
       "      <th>c1</th>\n",
       "      <th>c2</th>\n",
       "      <th>c3</th>\n",
       "    </tr>\n",
       "  </thead>\n",
       "  <tbody>\n",
       "    <tr>\n",
       "      <th>r2</th>\n",
       "      <td>2</td>\n",
       "      <td>20</td>\n",
       "      <td>200</td>\n",
       "    </tr>\n",
       "  </tbody>\n",
       "</table>\n",
       "</div>"
      ],
      "text/plain": [
       "    c1  c2   c3\n",
       "r2   2  20  200"
      ]
     },
     "execution_count": 28,
     "metadata": {},
     "output_type": "execute_result"
    }
   ],
   "source": [
    "#c1열이 1보다 큰 동시에 c3열이 300보다 작은 데이터\n",
    "df.loc[(df['c1']>1)&(df['c3']<300)]"
   ]
  },
  {
   "cell_type": "markdown",
   "id": "4d672b85-f393-4fcb-8f63-8ad35d4aa52e",
   "metadata": {},
   "source": [
    "### 판다스 파일 불러오기"
   ]
  },
  {
   "cell_type": "code",
   "execution_count": 29,
   "id": "9f3ccdda-9de3-4103-ad7a-fd1d049a24fe",
   "metadata": {},
   "outputs": [
    {
     "data": {
      "text/html": [
       "<div>\n",
       "<style scoped>\n",
       "    .dataframe tbody tr th:only-of-type {\n",
       "        vertical-align: middle;\n",
       "    }\n",
       "\n",
       "    .dataframe tbody tr th {\n",
       "        vertical-align: top;\n",
       "    }\n",
       "\n",
       "    .dataframe thead th {\n",
       "        text-align: right;\n",
       "    }\n",
       "</style>\n",
       "<table border=\"1\" class=\"dataframe\">\n",
       "  <thead>\n",
       "    <tr style=\"text-align: right;\">\n",
       "      <th></th>\n",
       "      <th>anime_id</th>\n",
       "      <th>name</th>\n",
       "      <th>genre</th>\n",
       "      <th>type</th>\n",
       "      <th>episodes</th>\n",
       "      <th>rating</th>\n",
       "      <th>members</th>\n",
       "    </tr>\n",
       "  </thead>\n",
       "  <tbody>\n",
       "    <tr>\n",
       "      <th>0</th>\n",
       "      <td>32281</td>\n",
       "      <td>Kimi no Na wa.</td>\n",
       "      <td>Drama, Romance, School, Supernatural</td>\n",
       "      <td>Movie</td>\n",
       "      <td>1</td>\n",
       "      <td>9.37</td>\n",
       "      <td>200630</td>\n",
       "    </tr>\n",
       "    <tr>\n",
       "      <th>1</th>\n",
       "      <td>5114</td>\n",
       "      <td>Fullmetal Alchemist: Brotherhood</td>\n",
       "      <td>Action, Adventure, Drama, Fantasy, Magic, Mili...</td>\n",
       "      <td>TV</td>\n",
       "      <td>64</td>\n",
       "      <td>9.26</td>\n",
       "      <td>793665</td>\n",
       "    </tr>\n",
       "    <tr>\n",
       "      <th>2</th>\n",
       "      <td>28977</td>\n",
       "      <td>Gintama°</td>\n",
       "      <td>Action, Comedy, Historical, Parody, Samurai, S...</td>\n",
       "      <td>TV</td>\n",
       "      <td>51</td>\n",
       "      <td>9.25</td>\n",
       "      <td>114262</td>\n",
       "    </tr>\n",
       "    <tr>\n",
       "      <th>3</th>\n",
       "      <td>9253</td>\n",
       "      <td>Steins;Gate</td>\n",
       "      <td>Sci-Fi, Thriller</td>\n",
       "      <td>TV</td>\n",
       "      <td>24</td>\n",
       "      <td>9.17</td>\n",
       "      <td>673572</td>\n",
       "    </tr>\n",
       "    <tr>\n",
       "      <th>4</th>\n",
       "      <td>9969</td>\n",
       "      <td>Gintama&amp;#039;</td>\n",
       "      <td>Action, Comedy, Historical, Parody, Samurai, S...</td>\n",
       "      <td>TV</td>\n",
       "      <td>51</td>\n",
       "      <td>9.16</td>\n",
       "      <td>151266</td>\n",
       "    </tr>\n",
       "  </tbody>\n",
       "</table>\n",
       "</div>"
      ],
      "text/plain": [
       "   anime_id                              name  \\\n",
       "0     32281                    Kimi no Na wa.   \n",
       "1      5114  Fullmetal Alchemist: Brotherhood   \n",
       "2     28977                          Gintama°   \n",
       "3      9253                       Steins;Gate   \n",
       "4      9969                     Gintama&#039;   \n",
       "\n",
       "                                               genre   type episodes  rating  \\\n",
       "0               Drama, Romance, School, Supernatural  Movie        1    9.37   \n",
       "1  Action, Adventure, Drama, Fantasy, Magic, Mili...     TV       64    9.26   \n",
       "2  Action, Comedy, Historical, Parody, Samurai, S...     TV       51    9.25   \n",
       "3                                   Sci-Fi, Thriller     TV       24    9.17   \n",
       "4  Action, Comedy, Historical, Parody, Samurai, S...     TV       51    9.16   \n",
       "\n",
       "   members  \n",
       "0   200630  \n",
       "1   793665  \n",
       "2   114262  \n",
       "3   673572  \n",
       "4   151266  "
      ]
     },
     "execution_count": 29,
     "metadata": {},
     "output_type": "execute_result"
    }
   ],
   "source": [
    "import pandas as pd\n",
    "csv = \"./sample/anime.csv\"\n",
    "df = pd.read_csv(csv)\n",
    "df.head()"
   ]
  },
  {
   "cell_type": "code",
   "execution_count": 30,
   "id": "80cadb14-739d-4411-8f39-48bbcf835f77",
   "metadata": {},
   "outputs": [
    {
     "data": {
      "text/html": [
       "<div>\n",
       "<style scoped>\n",
       "    .dataframe tbody tr th:only-of-type {\n",
       "        vertical-align: middle;\n",
       "    }\n",
       "\n",
       "    .dataframe tbody tr th {\n",
       "        vertical-align: top;\n",
       "    }\n",
       "\n",
       "    .dataframe thead th {\n",
       "        text-align: right;\n",
       "    }\n",
       "</style>\n",
       "<table border=\"1\" class=\"dataframe\">\n",
       "  <thead>\n",
       "    <tr style=\"text-align: right;\">\n",
       "      <th></th>\n",
       "      <th>name</th>\n",
       "      <th>genre</th>\n",
       "      <th>type</th>\n",
       "      <th>episodes</th>\n",
       "      <th>rating</th>\n",
       "      <th>members</th>\n",
       "    </tr>\n",
       "    <tr>\n",
       "      <th>anime_id</th>\n",
       "      <th></th>\n",
       "      <th></th>\n",
       "      <th></th>\n",
       "      <th></th>\n",
       "      <th></th>\n",
       "      <th></th>\n",
       "    </tr>\n",
       "  </thead>\n",
       "  <tbody>\n",
       "    <tr>\n",
       "      <th>32281</th>\n",
       "      <td>Kimi no Na wa.</td>\n",
       "      <td>Drama, Romance, School, Supernatural</td>\n",
       "      <td>Movie</td>\n",
       "      <td>1</td>\n",
       "      <td>9.37</td>\n",
       "      <td>200630</td>\n",
       "    </tr>\n",
       "    <tr>\n",
       "      <th>5114</th>\n",
       "      <td>Fullmetal Alchemist: Brotherhood</td>\n",
       "      <td>Action, Adventure, Drama, Fantasy, Magic, Mili...</td>\n",
       "      <td>TV</td>\n",
       "      <td>64</td>\n",
       "      <td>9.26</td>\n",
       "      <td>793665</td>\n",
       "    </tr>\n",
       "    <tr>\n",
       "      <th>28977</th>\n",
       "      <td>Gintama°</td>\n",
       "      <td>Action, Comedy, Historical, Parody, Samurai, S...</td>\n",
       "      <td>TV</td>\n",
       "      <td>51</td>\n",
       "      <td>9.25</td>\n",
       "      <td>114262</td>\n",
       "    </tr>\n",
       "    <tr>\n",
       "      <th>9253</th>\n",
       "      <td>Steins;Gate</td>\n",
       "      <td>Sci-Fi, Thriller</td>\n",
       "      <td>TV</td>\n",
       "      <td>24</td>\n",
       "      <td>9.17</td>\n",
       "      <td>673572</td>\n",
       "    </tr>\n",
       "    <tr>\n",
       "      <th>9969</th>\n",
       "      <td>Gintama&amp;#039;</td>\n",
       "      <td>Action, Comedy, Historical, Parody, Samurai, S...</td>\n",
       "      <td>TV</td>\n",
       "      <td>51</td>\n",
       "      <td>9.16</td>\n",
       "      <td>151266</td>\n",
       "    </tr>\n",
       "  </tbody>\n",
       "</table>\n",
       "</div>"
      ],
      "text/plain": [
       "                                      name  \\\n",
       "anime_id                                     \n",
       "32281                       Kimi no Na wa.   \n",
       "5114      Fullmetal Alchemist: Brotherhood   \n",
       "28977                             Gintama°   \n",
       "9253                           Steins;Gate   \n",
       "9969                         Gintama&#039;   \n",
       "\n",
       "                                                      genre   type episodes  \\\n",
       "anime_id                                                                      \n",
       "32281                  Drama, Romance, School, Supernatural  Movie        1   \n",
       "5114      Action, Adventure, Drama, Fantasy, Magic, Mili...     TV       64   \n",
       "28977     Action, Comedy, Historical, Parody, Samurai, S...     TV       51   \n",
       "9253                                       Sci-Fi, Thriller     TV       24   \n",
       "9969      Action, Comedy, Historical, Parody, Samurai, S...     TV       51   \n",
       "\n",
       "          rating  members  \n",
       "anime_id                   \n",
       "32281       9.37   200630  \n",
       "5114        9.26   793665  \n",
       "28977       9.25   114262  \n",
       "9253        9.17   673572  \n",
       "9969        9.16   151266  "
      ]
     },
     "execution_count": 30,
     "metadata": {},
     "output_type": "execute_result"
    }
   ],
   "source": [
    "df = pd.read_csv(csv, index_col=0)\n",
    "df.head()"
   ]
  },
  {
   "cell_type": "code",
   "execution_count": 31,
   "id": "ebf5be0d-6dca-42f4-a409-62d703e94d7b",
   "metadata": {},
   "outputs": [
    {
     "data": {
      "text/html": [
       "<div>\n",
       "<style scoped>\n",
       "    .dataframe tbody tr th:only-of-type {\n",
       "        vertical-align: middle;\n",
       "    }\n",
       "\n",
       "    .dataframe tbody tr th {\n",
       "        vertical-align: top;\n",
       "    }\n",
       "\n",
       "    .dataframe thead th {\n",
       "        text-align: right;\n",
       "    }\n",
       "</style>\n",
       "<table border=\"1\" class=\"dataframe\">\n",
       "  <thead>\n",
       "    <tr style=\"text-align: right;\">\n",
       "      <th></th>\n",
       "      <th>name</th>\n",
       "      <th>genre</th>\n",
       "      <th>type</th>\n",
       "      <th>episodes</th>\n",
       "      <th>rating</th>\n",
       "      <th>members</th>\n",
       "    </tr>\n",
       "    <tr>\n",
       "      <th>anime_id</th>\n",
       "      <th></th>\n",
       "      <th></th>\n",
       "      <th></th>\n",
       "      <th></th>\n",
       "      <th></th>\n",
       "      <th></th>\n",
       "    </tr>\n",
       "  </thead>\n",
       "  <tbody>\n",
       "    <tr>\n",
       "      <th>32281</th>\n",
       "      <td>Kimi no Na wa.</td>\n",
       "      <td>Drama, Romance, School, Supernatural</td>\n",
       "      <td>Movie</td>\n",
       "      <td>1</td>\n",
       "      <td>9.37</td>\n",
       "      <td>200630</td>\n",
       "    </tr>\n",
       "    <tr>\n",
       "      <th>5114</th>\n",
       "      <td>Fullmetal Alchemist: Brotherhood</td>\n",
       "      <td>Action, Adventure, Drama, Fantasy, Magic, Mili...</td>\n",
       "      <td>TV</td>\n",
       "      <td>64</td>\n",
       "      <td>9.26</td>\n",
       "      <td>793665</td>\n",
       "    </tr>\n",
       "    <tr>\n",
       "      <th>28977</th>\n",
       "      <td>Gintama°</td>\n",
       "      <td>Action, Comedy, Historical, Parody, Samurai, S...</td>\n",
       "      <td>TV</td>\n",
       "      <td>51</td>\n",
       "      <td>9.25</td>\n",
       "      <td>114262</td>\n",
       "    </tr>\n",
       "    <tr>\n",
       "      <th>9253</th>\n",
       "      <td>Steins;Gate</td>\n",
       "      <td>Sci-Fi, Thriller</td>\n",
       "      <td>TV</td>\n",
       "      <td>24</td>\n",
       "      <td>9.17</td>\n",
       "      <td>673572</td>\n",
       "    </tr>\n",
       "    <tr>\n",
       "      <th>9969</th>\n",
       "      <td>Gintama&amp;#039;</td>\n",
       "      <td>Action, Comedy, Historical, Parody, Samurai, S...</td>\n",
       "      <td>TV</td>\n",
       "      <td>51</td>\n",
       "      <td>9.16</td>\n",
       "      <td>151266</td>\n",
       "    </tr>\n",
       "  </tbody>\n",
       "</table>\n",
       "</div>"
      ],
      "text/plain": [
       "                                      name  \\\n",
       "anime_id                                     \n",
       "32281                       Kimi no Na wa.   \n",
       "5114      Fullmetal Alchemist: Brotherhood   \n",
       "28977                             Gintama°   \n",
       "9253                           Steins;Gate   \n",
       "9969                         Gintama&#039;   \n",
       "\n",
       "                                                      genre   type episodes  \\\n",
       "anime_id                                                                      \n",
       "32281                  Drama, Romance, School, Supernatural  Movie        1   \n",
       "5114      Action, Adventure, Drama, Fantasy, Magic, Mili...     TV       64   \n",
       "28977     Action, Comedy, Historical, Parody, Samurai, S...     TV       51   \n",
       "9253                                       Sci-Fi, Thriller     TV       24   \n",
       "9969      Action, Comedy, Historical, Parody, Samurai, S...     TV       51   \n",
       "\n",
       "          rating  members  \n",
       "anime_id                   \n",
       "32281       9.37   200630  \n",
       "5114        9.26   793665  \n",
       "28977       9.25   114262  \n",
       "9253        9.17   673572  \n",
       "9969        9.16   151266  "
      ]
     },
     "execution_count": 31,
     "metadata": {},
     "output_type": "execute_result"
    }
   ],
   "source": [
    "df = pd.read_csv(csv, index_col='anime_id')\n",
    "df.head()"
   ]
  },
  {
   "cell_type": "code",
   "execution_count": 32,
   "id": "71e118d7-e300-4922-a256-249a7b2b2b60",
   "metadata": {},
   "outputs": [
    {
     "data": {
      "text/html": [
       "<div>\n",
       "<style scoped>\n",
       "    .dataframe tbody tr th:only-of-type {\n",
       "        vertical-align: middle;\n",
       "    }\n",
       "\n",
       "    .dataframe tbody tr th {\n",
       "        vertical-align: top;\n",
       "    }\n",
       "\n",
       "    .dataframe thead th {\n",
       "        text-align: right;\n",
       "    }\n",
       "</style>\n",
       "<table border=\"1\" class=\"dataframe\">\n",
       "  <thead>\n",
       "    <tr style=\"text-align: right;\">\n",
       "      <th></th>\n",
       "      <th>anime_id</th>\n",
       "      <th>name</th>\n",
       "      <th>genre</th>\n",
       "      <th>type</th>\n",
       "      <th>episodes</th>\n",
       "      <th>rating</th>\n",
       "      <th>members</th>\n",
       "    </tr>\n",
       "  </thead>\n",
       "  <tbody>\n",
       "    <tr>\n",
       "      <th>0</th>\n",
       "      <td>32281</td>\n",
       "      <td>Kimi no Na wa.</td>\n",
       "      <td>Drama, Romance, School, Supernatural</td>\n",
       "      <td>Movie</td>\n",
       "      <td>1</td>\n",
       "      <td>9.37</td>\n",
       "      <td>200630.0</td>\n",
       "    </tr>\n",
       "    <tr>\n",
       "      <th>1</th>\n",
       "      <td>5114</td>\n",
       "      <td>Fullmetal Alchemist: Brotherhood</td>\n",
       "      <td>Action, Adventure, Drama, Fantasy, Magic, Mili...</td>\n",
       "      <td>TV</td>\n",
       "      <td>64</td>\n",
       "      <td>9.26</td>\n",
       "      <td>793665.0</td>\n",
       "    </tr>\n",
       "    <tr>\n",
       "      <th>2</th>\n",
       "      <td>28977</td>\n",
       "      <td>Gintama°</td>\n",
       "      <td>Action, Comedy, Historical, Parody, Samurai, S...</td>\n",
       "      <td>TV</td>\n",
       "      <td>51</td>\n",
       "      <td>9.25</td>\n",
       "      <td>114262.0</td>\n",
       "    </tr>\n",
       "    <tr>\n",
       "      <th>3</th>\n",
       "      <td>9253</td>\n",
       "      <td>Steins;Gate</td>\n",
       "      <td>Sci-Fi, Thriller</td>\n",
       "      <td>TV</td>\n",
       "      <td>24</td>\n",
       "      <td>9.17</td>\n",
       "      <td>673572.0</td>\n",
       "    </tr>\n",
       "    <tr>\n",
       "      <th>4</th>\n",
       "      <td>9969</td>\n",
       "      <td>Gintama&amp;#039;</td>\n",
       "      <td>Action, Comedy, Historical, Parody, Samurai, S...</td>\n",
       "      <td>TV</td>\n",
       "      <td>51</td>\n",
       "      <td>9.16</td>\n",
       "      <td>151266.0</td>\n",
       "    </tr>\n",
       "  </tbody>\n",
       "</table>\n",
       "</div>"
      ],
      "text/plain": [
       "   anime_id                              name  \\\n",
       "0     32281                    Kimi no Na wa.   \n",
       "1      5114  Fullmetal Alchemist: Brotherhood   \n",
       "2     28977                          Gintama°   \n",
       "3      9253                       Steins;Gate   \n",
       "4      9969                     Gintama&#039;   \n",
       "\n",
       "                                               genre   type episodes  rating  \\\n",
       "0               Drama, Romance, School, Supernatural  Movie        1    9.37   \n",
       "1  Action, Adventure, Drama, Fantasy, Magic, Mili...     TV       64    9.26   \n",
       "2  Action, Comedy, Historical, Parody, Samurai, S...     TV       51    9.25   \n",
       "3                                   Sci-Fi, Thriller     TV       24    9.17   \n",
       "4  Action, Comedy, Historical, Parody, Samurai, S...     TV       51    9.16   \n",
       "\n",
       "    members  \n",
       "0  200630.0  \n",
       "1  793665.0  \n",
       "2  114262.0  \n",
       "3  673572.0  \n",
       "4  151266.0  "
      ]
     },
     "execution_count": 32,
     "metadata": {},
     "output_type": "execute_result"
    }
   ],
   "source": [
    "df = pd.read_csv(csv, dtype={'members':float})\n",
    "df.head()"
   ]
  },
  {
   "cell_type": "code",
   "execution_count": 33,
   "id": "a2550d48-36e8-418e-a68f-3717187c7ccf",
   "metadata": {},
   "outputs": [
    {
     "data": {
      "text/plain": [
       "Date              datetime64[ns]\n",
       "TOEI ANIMATION           float64\n",
       "IG Port                  float64\n",
       "dtype: object"
      ]
     },
     "execution_count": 33,
     "metadata": {},
     "output_type": "execute_result"
    }
   ],
   "source": [
    "csv = \"./sample/anime_stock_price.csv\"\n",
    "df = pd.read_csv(csv, parse_dates=['Date'])\n",
    "df.dtypes"
   ]
  },
  {
   "cell_type": "code",
   "execution_count": 34,
   "id": "a1395ac1-8a32-4645-bf6c-47fbff9a8c8b",
   "metadata": {},
   "outputs": [
    {
     "name": "stdout",
     "output_type": "stream",
     "text": [
      "Collecting openpyxl\n",
      "  Downloading openpyxl-3.1.2-py2.py3-none-any.whl (249 kB)\n",
      "     ---------------------------------------- 0.0/250.0 kB ? eta -:--:--\n",
      "     --- --------------------------------- 20.5/250.0 kB 330.3 kB/s eta 0:00:01\n",
      "     --------------- ---------------------- 102.4/250.0 kB 1.2 MB/s eta 0:00:01\n",
      "     -------------------------------------- 250.0/250.0 kB 2.6 MB/s eta 0:00:00\n",
      "Collecting et-xmlfile (from openpyxl)\n",
      "  Downloading et_xmlfile-1.1.0-py3-none-any.whl (4.7 kB)\n",
      "Installing collected packages: et-xmlfile, openpyxl\n",
      "Successfully installed et-xmlfile-1.1.0 openpyxl-3.1.2\n"
     ]
    }
   ],
   "source": [
    "!pip install openpyxl"
   ]
  },
  {
   "cell_type": "code",
   "execution_count": 35,
   "id": "dfeb8d3a-d721-41ee-b8d7-a807b509abf0",
   "metadata": {},
   "outputs": [
    {
     "data": {
      "text/html": [
       "<div>\n",
       "<style scoped>\n",
       "    .dataframe tbody tr th:only-of-type {\n",
       "        vertical-align: middle;\n",
       "    }\n",
       "\n",
       "    .dataframe tbody tr th {\n",
       "        vertical-align: top;\n",
       "    }\n",
       "\n",
       "    .dataframe thead th {\n",
       "        text-align: right;\n",
       "    }\n",
       "</style>\n",
       "<table border=\"1\" class=\"dataframe\">\n",
       "  <thead>\n",
       "    <tr style=\"text-align: right;\">\n",
       "      <th></th>\n",
       "      <th>anime_id</th>\n",
       "      <th>name</th>\n",
       "      <th>genre</th>\n",
       "      <th>type</th>\n",
       "      <th>episodes</th>\n",
       "      <th>rating</th>\n",
       "      <th>members</th>\n",
       "    </tr>\n",
       "  </thead>\n",
       "  <tbody>\n",
       "    <tr>\n",
       "      <th>0</th>\n",
       "      <td>32281</td>\n",
       "      <td>Kimi no Na wa.</td>\n",
       "      <td>Drama, Romance, School, Supernatural</td>\n",
       "      <td>Movie</td>\n",
       "      <td>1</td>\n",
       "      <td>9.37</td>\n",
       "      <td>200630</td>\n",
       "    </tr>\n",
       "    <tr>\n",
       "      <th>1</th>\n",
       "      <td>15335</td>\n",
       "      <td>Gintama Movie: Kanketsu-hen - Yorozuya yo Eien...</td>\n",
       "      <td>Action, Comedy, Historical, Parody, Samurai, S...</td>\n",
       "      <td>Movie</td>\n",
       "      <td>1</td>\n",
       "      <td>9.10</td>\n",
       "      <td>72534</td>\n",
       "    </tr>\n",
       "    <tr>\n",
       "      <th>2</th>\n",
       "      <td>28851</td>\n",
       "      <td>Koe no Katachi</td>\n",
       "      <td>Drama, School, Shounen</td>\n",
       "      <td>Movie</td>\n",
       "      <td>1</td>\n",
       "      <td>9.05</td>\n",
       "      <td>102733</td>\n",
       "    </tr>\n",
       "    <tr>\n",
       "      <th>3</th>\n",
       "      <td>199</td>\n",
       "      <td>Sen to Chihiro no Kamikakushi</td>\n",
       "      <td>Adventure, Drama, Supernatural</td>\n",
       "      <td>Movie</td>\n",
       "      <td>1</td>\n",
       "      <td>8.93</td>\n",
       "      <td>466254</td>\n",
       "    </tr>\n",
       "    <tr>\n",
       "      <th>4</th>\n",
       "      <td>12355</td>\n",
       "      <td>Ookami Kodomo no Ame to Yuki</td>\n",
       "      <td>Fantasy, Slice of Life</td>\n",
       "      <td>Movie</td>\n",
       "      <td>1</td>\n",
       "      <td>8.84</td>\n",
       "      <td>226193</td>\n",
       "    </tr>\n",
       "  </tbody>\n",
       "</table>\n",
       "</div>"
      ],
      "text/plain": [
       "   anime_id                                               name  \\\n",
       "0     32281                                     Kimi no Na wa.   \n",
       "1     15335  Gintama Movie: Kanketsu-hen - Yorozuya yo Eien...   \n",
       "2     28851                                     Koe no Katachi   \n",
       "3       199                      Sen to Chihiro no Kamikakushi   \n",
       "4     12355                       Ookami Kodomo no Ame to Yuki   \n",
       "\n",
       "                                               genre   type episodes  rating  \\\n",
       "0               Drama, Romance, School, Supernatural  Movie        1    9.37   \n",
       "1  Action, Comedy, Historical, Parody, Samurai, S...  Movie        1    9.10   \n",
       "2                             Drama, School, Shounen  Movie        1    9.05   \n",
       "3                     Adventure, Drama, Supernatural  Movie        1    8.93   \n",
       "4                             Fantasy, Slice of Life  Movie        1    8.84   \n",
       "\n",
       "   members  \n",
       "0   200630  \n",
       "1    72534  \n",
       "2   102733  \n",
       "3   466254  \n",
       "4   226193  "
      ]
     },
     "execution_count": 35,
     "metadata": {},
     "output_type": "execute_result"
    }
   ],
   "source": [
    "import pandas as pd\n",
    "import openpyxl\n",
    "\n",
    "xlsx = \"./sample/anime.xlsx\"\n",
    "df = pd.read_excel(xlsx)\n",
    "df.head()"
   ]
  },
  {
   "cell_type": "markdown",
   "id": "2dc81089-4105-4984-9c6c-77c925d4e552",
   "metadata": {},
   "source": [
    "### SQL"
   ]
  },
  {
   "cell_type": "code",
   "execution_count": 36,
   "id": "9ff22fc3-2942-4fce-90dd-17bb5362a752",
   "metadata": {},
   "outputs": [
    {
     "name": "stdout",
     "output_type": "stream",
     "text": [
      "Collecting pandasql\n",
      "  Downloading pandasql-0.7.3.tar.gz (26 kB)\n",
      "  Installing build dependencies: started\n",
      "  Installing build dependencies: finished with status 'done'\n",
      "  Getting requirements to build wheel: started\n",
      "  Getting requirements to build wheel: finished with status 'done'\n",
      "  Preparing metadata (pyproject.toml): started\n",
      "  Preparing metadata (pyproject.toml): finished with status 'done'\n",
      "Requirement already satisfied: numpy in c:\\users\\2022-pc(t)-41\\appdata\\local\\programs\\python\\python312\\lib\\site-packages (from pandasql) (1.26.2)\n",
      "Requirement already satisfied: pandas in c:\\users\\2022-pc(t)-41\\appdata\\local\\programs\\python\\python312\\lib\\site-packages (from pandasql) (2.1.4)\n",
      "Collecting sqlalchemy (from pandasql)\n",
      "  Downloading SQLAlchemy-2.0.23-cp312-cp312-win_amd64.whl.metadata (9.8 kB)\n",
      "Requirement already satisfied: python-dateutil>=2.8.2 in c:\\users\\2022-pc(t)-41\\appdata\\local\\programs\\python\\python312\\lib\\site-packages (from pandas->pandasql) (2.8.2)\n",
      "Requirement already satisfied: pytz>=2020.1 in c:\\users\\2022-pc(t)-41\\appdata\\local\\programs\\python\\python312\\lib\\site-packages (from pandas->pandasql) (2023.3.post1)\n",
      "Requirement already satisfied: tzdata>=2022.1 in c:\\users\\2022-pc(t)-41\\appdata\\local\\programs\\python\\python312\\lib\\site-packages (from pandas->pandasql) (2023.3)\n",
      "Collecting typing-extensions>=4.2.0 (from sqlalchemy->pandasql)\n",
      "  Downloading typing_extensions-4.9.0-py3-none-any.whl.metadata (3.0 kB)\n",
      "Collecting greenlet!=0.4.17 (from sqlalchemy->pandasql)\n",
      "  Downloading greenlet-3.0.2-cp312-cp312-win_amd64.whl.metadata (3.8 kB)\n",
      "Requirement already satisfied: six>=1.5 in c:\\users\\2022-pc(t)-41\\appdata\\local\\programs\\python\\python312\\lib\\site-packages (from python-dateutil>=2.8.2->pandas->pandasql) (1.16.0)\n",
      "Downloading SQLAlchemy-2.0.23-cp312-cp312-win_amd64.whl (2.1 MB)\n",
      "   ---------------------------------------- 0.0/2.1 MB ? eta -:--:--\n",
      "   ---- ----------------------------------- 0.2/2.1 MB 7.3 MB/s eta 0:00:01\n",
      "   -------------------- ------------------- 1.1/2.1 MB 13.4 MB/s eta 0:00:01\n",
      "   ---------------------------------------  2.0/2.1 MB 16.3 MB/s eta 0:00:01\n",
      "   ---------------------------------------- 2.1/2.1 MB 14.6 MB/s eta 0:00:00\n",
      "Downloading greenlet-3.0.2-cp312-cp312-win_amd64.whl (289 kB)\n",
      "   ---------------------------------------- 0.0/289.7 kB ? eta -:--:--\n",
      "   --------------------------------------- 289.7/289.7 kB 17.5 MB/s eta 0:00:00\n",
      "Downloading typing_extensions-4.9.0-py3-none-any.whl (32 kB)\n",
      "Building wheels for collected packages: pandasql\n",
      "  Building wheel for pandasql (pyproject.toml): started\n",
      "  Building wheel for pandasql (pyproject.toml): finished with status 'done'\n",
      "  Created wheel for pandasql: filename=pandasql-0.7.3-py3-none-any.whl size=26798 sha256=947b4f5a949a6c6e224c218f015be8dc522d36fc3d1b1ff87ac868d0c41b5637\n",
      "  Stored in directory: c:\\users\\2022-pc(t)-41\\appdata\\local\\pip\\cache\\wheels\\15\\a1\\e7\\6f92f295b5272ae5c02365e6b8fa19cb93f16a537090a1cf27\n",
      "Successfully built pandasql\n",
      "Installing collected packages: typing-extensions, greenlet, sqlalchemy, pandasql\n",
      "Successfully installed greenlet-3.0.2 pandasql-0.7.3 sqlalchemy-2.0.23 typing-extensions-4.9.0\n"
     ]
    }
   ],
   "source": [
    "!pip install pandasql"
   ]
  },
  {
   "cell_type": "code",
   "execution_count": 38,
   "id": "eae37e63-cdad-4e3e-8d26-48593f2356dc",
   "metadata": {},
   "outputs": [
    {
     "data": {
      "text/html": [
       "<div>\n",
       "<style scoped>\n",
       "    .dataframe tbody tr th:only-of-type {\n",
       "        vertical-align: middle;\n",
       "    }\n",
       "\n",
       "    .dataframe tbody tr th {\n",
       "        vertical-align: top;\n",
       "    }\n",
       "\n",
       "    .dataframe thead th {\n",
       "        text-align: right;\n",
       "    }\n",
       "</style>\n",
       "<table border=\"1\" class=\"dataframe\">\n",
       "  <thead>\n",
       "    <tr style=\"text-align: right;\">\n",
       "      <th></th>\n",
       "      <th>name</th>\n",
       "      <th>rating</th>\n",
       "    </tr>\n",
       "  </thead>\n",
       "  <tbody>\n",
       "    <tr>\n",
       "      <th>0</th>\n",
       "      <td>Taka no Tsume 8: Yoshida-kun no X-Files</td>\n",
       "      <td>10.00</td>\n",
       "    </tr>\n",
       "    <tr>\n",
       "      <th>1</th>\n",
       "      <td>Mogura no Motoro</td>\n",
       "      <td>9.50</td>\n",
       "    </tr>\n",
       "    <tr>\n",
       "      <th>2</th>\n",
       "      <td>Kimi no Na wa.</td>\n",
       "      <td>9.37</td>\n",
       "    </tr>\n",
       "    <tr>\n",
       "      <th>3</th>\n",
       "      <td>Kahei no Umi</td>\n",
       "      <td>9.33</td>\n",
       "    </tr>\n",
       "    <tr>\n",
       "      <th>4</th>\n",
       "      <td>Gintama Movie: Kanketsu-hen - Yorozuya yo Eien...</td>\n",
       "      <td>9.10</td>\n",
       "    </tr>\n",
       "    <tr>\n",
       "      <th>5</th>\n",
       "      <td>Koe no Katachi</td>\n",
       "      <td>9.05</td>\n",
       "    </tr>\n",
       "  </tbody>\n",
       "</table>\n",
       "</div>"
      ],
      "text/plain": [
       "                                                name  rating\n",
       "0            Taka no Tsume 8: Yoshida-kun no X-Files   10.00\n",
       "1                                   Mogura no Motoro    9.50\n",
       "2                                     Kimi no Na wa.    9.37\n",
       "3                                       Kahei no Umi    9.33\n",
       "4  Gintama Movie: Kanketsu-hen - Yorozuya yo Eien...    9.10\n",
       "5                                     Koe no Katachi    9.05"
      ]
     },
     "execution_count": 38,
     "metadata": {},
     "output_type": "execute_result"
    }
   ],
   "source": [
    "from pandasql import sqldf\n",
    "dfsql = lambda q:sqldf(q,globals())\n",
    "result = dfsql(\"SELECT name, rating FROM df WHERE rating>9.0 ORDER BY rating DESC\")\n",
    "result"
   ]
  },
  {
   "cell_type": "markdown",
   "id": "187750a9-c7e1-4d5b-9722-b409ee502e6b",
   "metadata": {},
   "source": [
    "### JSON 저장하기"
   ]
  },
  {
   "cell_type": "code",
   "execution_count": 39,
   "id": "c73c328f-e2a1-43a7-a0f4-c5d128171bf0",
   "metadata": {},
   "outputs": [],
   "source": [
    "result.to_json('./sample/anime.json',orient='table')"
   ]
  },
  {
   "cell_type": "markdown",
   "id": "9c2656b0-58fe-474f-904d-885e35bffd24",
   "metadata": {},
   "source": [
    "### HTML 가져오기"
   ]
  },
  {
   "cell_type": "code",
   "execution_count": 40,
   "id": "9104bbe5-3d30-4fde-9818-87e092f66936",
   "metadata": {},
   "outputs": [
    {
     "data": {
      "text/plain": [
       "[      0           1                                                  2\n",
       " 0   NaN         NaN                                                NaN\n",
       " 1   NaN           _                                                NaN\n",
       " 2   NaN  __future__                       Future statement definitions\n",
       " 3   NaN    __main__  The environment where top-level code is run. C...\n",
       " 4   NaN     _thread                           Low-level threading API.\n",
       " ..   ..         ...                                                ...\n",
       " 345 NaN      zipapp              Manage executable Python zip archives\n",
       " 346 NaN     zipfile           Read and write ZIP-format archive files.\n",
       " 347 NaN   zipimport  Support for importing Python modules from ZIP ...\n",
       " 348 NaN        zlib  Low-level interface to compression and decompr...\n",
       " 349 NaN    zoneinfo                             IANA time zone support\n",
       " \n",
       " [350 rows x 3 columns]]"
      ]
     },
     "execution_count": 40,
     "metadata": {},
     "output_type": "execute_result"
    }
   ],
   "source": [
    "url = 'https://docs.python.org/3/py-modindex.html'\n",
    "tables = pd.read_html(url)\n",
    "tables"
   ]
  },
  {
   "cell_type": "code",
   "execution_count": 41,
   "id": "69ded2bc-8c3f-4b8c-9407-0060919a91b6",
   "metadata": {},
   "outputs": [
    {
     "data": {
      "text/html": [
       "<div>\n",
       "<style scoped>\n",
       "    .dataframe tbody tr th:only-of-type {\n",
       "        vertical-align: middle;\n",
       "    }\n",
       "\n",
       "    .dataframe tbody tr th {\n",
       "        vertical-align: top;\n",
       "    }\n",
       "\n",
       "    .dataframe thead th {\n",
       "        text-align: right;\n",
       "    }\n",
       "</style>\n",
       "<table border=\"1\" class=\"dataframe\">\n",
       "  <thead>\n",
       "    <tr style=\"text-align: right;\">\n",
       "      <th></th>\n",
       "      <th>1</th>\n",
       "      <th>2</th>\n",
       "    </tr>\n",
       "  </thead>\n",
       "  <tbody>\n",
       "    <tr>\n",
       "      <th>2</th>\n",
       "      <td>__future__</td>\n",
       "      <td>Future statement definitions</td>\n",
       "    </tr>\n",
       "    <tr>\n",
       "      <th>3</th>\n",
       "      <td>__main__</td>\n",
       "      <td>The environment where top-level code is run. C...</td>\n",
       "    </tr>\n",
       "    <tr>\n",
       "      <th>4</th>\n",
       "      <td>_thread</td>\n",
       "      <td>Low-level threading API.</td>\n",
       "    </tr>\n",
       "    <tr>\n",
       "      <th>5</th>\n",
       "      <td>_tkinter</td>\n",
       "      <td>A binary module that contains the low-level in...</td>\n",
       "    </tr>\n",
       "    <tr>\n",
       "      <th>8</th>\n",
       "      <td>abc</td>\n",
       "      <td>Abstract base classes according to :pep:`3119`.</td>\n",
       "    </tr>\n",
       "    <tr>\n",
       "      <th>9</th>\n",
       "      <td>aifc</td>\n",
       "      <td>Deprecated:  Read and write audio files in AIF...</td>\n",
       "    </tr>\n",
       "    <tr>\n",
       "      <th>10</th>\n",
       "      <td>argparse</td>\n",
       "      <td>Command-line option and argument parsing library.</td>\n",
       "    </tr>\n",
       "    <tr>\n",
       "      <th>11</th>\n",
       "      <td>array</td>\n",
       "      <td>Space efficient arrays of uniformly typed nume...</td>\n",
       "    </tr>\n",
       "    <tr>\n",
       "      <th>12</th>\n",
       "      <td>ast</td>\n",
       "      <td>Abstract Syntax Tree classes and manipulation.</td>\n",
       "    </tr>\n",
       "    <tr>\n",
       "      <th>13</th>\n",
       "      <td>asyncio</td>\n",
       "      <td>Asynchronous I/O.</td>\n",
       "    </tr>\n",
       "  </tbody>\n",
       "</table>\n",
       "</div>"
      ],
      "text/plain": [
       "             1                                                  2\n",
       "2   __future__                       Future statement definitions\n",
       "3     __main__  The environment where top-level code is run. C...\n",
       "4      _thread                           Low-level threading API.\n",
       "5     _tkinter  A binary module that contains the low-level in...\n",
       "8          abc    Abstract base classes according to :pep:`3119`.\n",
       "9         aifc  Deprecated:  Read and write audio files in AIF...\n",
       "10    argparse  Command-line option and argument parsing library.\n",
       "11       array  Space efficient arrays of uniformly typed nume...\n",
       "12         ast     Abstract Syntax Tree classes and manipulation.\n",
       "13     asyncio                                  Asynchronous I/O."
      ]
     },
     "execution_count": 41,
     "metadata": {},
     "output_type": "execute_result"
    }
   ],
   "source": [
    "tables[0].loc[:,1:].dropna().head(10)"
   ]
  },
  {
   "cell_type": "code",
   "execution_count": 42,
   "id": "e5a8b7a3-792e-41c9-a4a3-95d3aee9d1db",
   "metadata": {},
   "outputs": [
    {
     "data": {
      "text/html": [
       "<div>\n",
       "<style scoped>\n",
       "    .dataframe tbody tr th:only-of-type {\n",
       "        vertical-align: middle;\n",
       "    }\n",
       "\n",
       "    .dataframe tbody tr th {\n",
       "        vertical-align: top;\n",
       "    }\n",
       "\n",
       "    .dataframe thead th {\n",
       "        text-align: right;\n",
       "    }\n",
       "</style>\n",
       "<table border=\"1\" class=\"dataframe\">\n",
       "  <thead>\n",
       "    <tr style=\"text-align: right;\">\n",
       "      <th></th>\n",
       "      <th>anime_id</th>\n",
       "      <th>name</th>\n",
       "      <th>genre</th>\n",
       "      <th>type</th>\n",
       "      <th>episodes</th>\n",
       "      <th>rating</th>\n",
       "      <th>members</th>\n",
       "    </tr>\n",
       "  </thead>\n",
       "  <tbody>\n",
       "    <tr>\n",
       "      <th>0</th>\n",
       "      <td>NaN</td>\n",
       "      <td>NaN</td>\n",
       "      <td>NaN</td>\n",
       "      <td>NaN</td>\n",
       "      <td>NaN</td>\n",
       "      <td>NaN</td>\n",
       "      <td>NaN</td>\n",
       "    </tr>\n",
       "    <tr>\n",
       "      <th>1</th>\n",
       "      <td>15335.0</td>\n",
       "      <td>Gintama Movie: Kanketsu-hen - Yorozuya yo Eien...</td>\n",
       "      <td>Action, Comedy, Historical, Parody, Samurai, S...</td>\n",
       "      <td>Movie</td>\n",
       "      <td>1</td>\n",
       "      <td>9.10</td>\n",
       "      <td>72534.0</td>\n",
       "    </tr>\n",
       "    <tr>\n",
       "      <th>2</th>\n",
       "      <td>28851.0</td>\n",
       "      <td>Koe no Katachi</td>\n",
       "      <td>Drama, School, Shounen</td>\n",
       "      <td>Movie</td>\n",
       "      <td>1</td>\n",
       "      <td>9.05</td>\n",
       "      <td>102733.0</td>\n",
       "    </tr>\n",
       "    <tr>\n",
       "      <th>3</th>\n",
       "      <td>199.0</td>\n",
       "      <td>Sen to Chihiro no Kamikakushi</td>\n",
       "      <td>Adventure, Drama, Supernatural</td>\n",
       "      <td>Movie</td>\n",
       "      <td>1</td>\n",
       "      <td>8.93</td>\n",
       "      <td>466254.0</td>\n",
       "    </tr>\n",
       "    <tr>\n",
       "      <th>4</th>\n",
       "      <td>12355.0</td>\n",
       "      <td>Ookami Kodomo no Ame to Yuki</td>\n",
       "      <td>Fantasy, Slice of Life</td>\n",
       "      <td>Movie</td>\n",
       "      <td>1</td>\n",
       "      <td>8.84</td>\n",
       "      <td>226193.0</td>\n",
       "    </tr>\n",
       "  </tbody>\n",
       "</table>\n",
       "</div>"
      ],
      "text/plain": [
       "   anime_id                                               name  \\\n",
       "0       NaN                                                NaN   \n",
       "1   15335.0  Gintama Movie: Kanketsu-hen - Yorozuya yo Eien...   \n",
       "2   28851.0                                     Koe no Katachi   \n",
       "3     199.0                      Sen to Chihiro no Kamikakushi   \n",
       "4   12355.0                       Ookami Kodomo no Ame to Yuki   \n",
       "\n",
       "                                               genre   type episodes  rating  \\\n",
       "0                                                NaN    NaN      NaN     NaN   \n",
       "1  Action, Comedy, Historical, Parody, Samurai, S...  Movie        1    9.10   \n",
       "2                             Drama, School, Shounen  Movie        1    9.05   \n",
       "3                     Adventure, Drama, Supernatural  Movie        1    8.93   \n",
       "4                             Fantasy, Slice of Life  Movie        1    8.84   \n",
       "\n",
       "    members  \n",
       "0       NaN  \n",
       "1   72534.0  \n",
       "2  102733.0  \n",
       "3  466254.0  \n",
       "4  226193.0  "
      ]
     },
     "execution_count": 42,
     "metadata": {},
     "output_type": "execute_result"
    }
   ],
   "source": [
    "df.where(df['rating']<9.2).head()"
   ]
  },
  {
   "cell_type": "code",
   "execution_count": 43,
   "id": "2a386145-4042-485a-acca-6cc49e53160a",
   "metadata": {},
   "outputs": [
    {
     "data": {
      "text/html": [
       "<div>\n",
       "<style scoped>\n",
       "    .dataframe tbody tr th:only-of-type {\n",
       "        vertical-align: middle;\n",
       "    }\n",
       "\n",
       "    .dataframe tbody tr th {\n",
       "        vertical-align: top;\n",
       "    }\n",
       "\n",
       "    .dataframe thead th {\n",
       "        text-align: right;\n",
       "    }\n",
       "</style>\n",
       "<table border=\"1\" class=\"dataframe\">\n",
       "  <thead>\n",
       "    <tr style=\"text-align: right;\">\n",
       "      <th></th>\n",
       "      <th>anime_id</th>\n",
       "      <th>name</th>\n",
       "      <th>genre</th>\n",
       "      <th>type</th>\n",
       "      <th>episodes</th>\n",
       "      <th>rating</th>\n",
       "      <th>members</th>\n",
       "    </tr>\n",
       "  </thead>\n",
       "  <tbody>\n",
       "    <tr>\n",
       "      <th>2143</th>\n",
       "      <td>33662</td>\n",
       "      <td>Taka no Tsume 8: Yoshida-kun no X-Files</td>\n",
       "      <td>Comedy, Parody</td>\n",
       "      <td>Movie</td>\n",
       "      <td>1</td>\n",
       "      <td>10.00</td>\n",
       "      <td>13</td>\n",
       "    </tr>\n",
       "    <tr>\n",
       "      <th>1894</th>\n",
       "      <td>23005</td>\n",
       "      <td>Mogura no Motoro</td>\n",
       "      <td>Slice of Life</td>\n",
       "      <td>Movie</td>\n",
       "      <td>1</td>\n",
       "      <td>9.50</td>\n",
       "      <td>62</td>\n",
       "    </tr>\n",
       "    <tr>\n",
       "      <th>0</th>\n",
       "      <td>32281</td>\n",
       "      <td>Kimi no Na wa.</td>\n",
       "      <td>Drama, Romance, School, Supernatural</td>\n",
       "      <td>Movie</td>\n",
       "      <td>1</td>\n",
       "      <td>9.37</td>\n",
       "      <td>200630</td>\n",
       "    </tr>\n",
       "    <tr>\n",
       "      <th>1753</th>\n",
       "      <td>33607</td>\n",
       "      <td>Kahei no Umi</td>\n",
       "      <td>Historical</td>\n",
       "      <td>Movie</td>\n",
       "      <td>1</td>\n",
       "      <td>9.33</td>\n",
       "      <td>44</td>\n",
       "    </tr>\n",
       "    <tr>\n",
       "      <th>1</th>\n",
       "      <td>15335</td>\n",
       "      <td>Gintama Movie: Kanketsu-hen - Yorozuya yo Eien...</td>\n",
       "      <td>Action, Comedy, Historical, Parody, Samurai, S...</td>\n",
       "      <td>Movie</td>\n",
       "      <td>1</td>\n",
       "      <td>9.10</td>\n",
       "      <td>72534</td>\n",
       "    </tr>\n",
       "  </tbody>\n",
       "</table>\n",
       "</div>"
      ],
      "text/plain": [
       "      anime_id                                               name  \\\n",
       "2143     33662            Taka no Tsume 8: Yoshida-kun no X-Files   \n",
       "1894     23005                                   Mogura no Motoro   \n",
       "0        32281                                     Kimi no Na wa.   \n",
       "1753     33607                                       Kahei no Umi   \n",
       "1        15335  Gintama Movie: Kanketsu-hen - Yorozuya yo Eien...   \n",
       "\n",
       "                                                  genre   type episodes  \\\n",
       "2143                                     Comedy, Parody  Movie        1   \n",
       "1894                                      Slice of Life  Movie        1   \n",
       "0                  Drama, Romance, School, Supernatural  Movie        1   \n",
       "1753                                         Historical  Movie        1   \n",
       "1     Action, Comedy, Historical, Parody, Samurai, S...  Movie        1   \n",
       "\n",
       "      rating  members  \n",
       "2143   10.00       13  \n",
       "1894    9.50       62  \n",
       "0       9.37   200630  \n",
       "1753    9.33       44  \n",
       "1       9.10    72534  "
      ]
     },
     "execution_count": 43,
     "metadata": {},
     "output_type": "execute_result"
    }
   ],
   "source": [
    "df.sort_values('rating',ascending=False).head()"
   ]
  },
  {
   "cell_type": "code",
   "execution_count": null,
   "id": "91ee2fc1-a8db-4af9-b2b0-bfc71f9204ab",
   "metadata": {},
   "outputs": [],
   "source": []
  }
 ],
 "metadata": {
  "kernelspec": {
   "display_name": "Python 3 (ipykernel)",
   "language": "python",
   "name": "python3"
  },
  "language_info": {
   "codemirror_mode": {
    "name": "ipython",
    "version": 3
   },
   "file_extension": ".py",
   "mimetype": "text/x-python",
   "name": "python",
   "nbconvert_exporter": "python",
   "pygments_lexer": "ipython3",
   "version": "3.12.1"
  }
 },
 "nbformat": 4,
 "nbformat_minor": 5
}
